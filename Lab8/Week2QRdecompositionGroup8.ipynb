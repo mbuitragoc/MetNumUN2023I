{
  "nbformat": 4,
  "nbformat_minor": 0,
  "metadata": {
    "colab": {
      "provenance": [],
      "collapsed_sections": [
        "Uz3t7DtP0gLx"
      ],
      "include_colab_link": true
    },
    "kernelspec": {
      "name": "python3",
      "display_name": "Python 3"
    }
  },
  "cells": [
    {
      "cell_type": "markdown",
      "metadata": {
        "id": "view-in-github",
        "colab_type": "text"
      },
      "source": [
        "<a href=\"https://colab.research.google.com/github/mbuitragoc/MetNumUN2023I/blob/main/Lab8/Week2QRdecompositionGroup8.ipynb\" target=\"_parent\"><img src=\"https://colab.research.google.com/assets/colab-badge.svg\" alt=\"Open In Colab\"/></a>"
      ]
    },
    {
      "cell_type": "code",
      "metadata": {
        "id": "OLUKMp6bzVEJ"
      },
      "source": [
        "import numpy as np\n",
        "\n",
        "from numpy.testing import assert_allclose"
      ],
      "execution_count": 1,
      "outputs": []
    },
    {
      "cell_type": "markdown",
      "metadata": {
        "id": "Uz3t7DtP0gLx"
      },
      "source": [
        "# Part I. Construct a Householder reflection of a vector."
      ]
    },
    {
      "cell_type": "markdown",
      "metadata": {
        "id": "K0JvLCTy0kOI"
      },
      "source": [
        "Given a vector $\\mathbf{x}$, and a plane with a normal vector $\\mathbf{u}$, the Householder transformation reflects $\\mathbf{x}$ about the plane.\n",
        "\n",
        "The matrix of the Householder transformation is\n",
        "\n",
        "$$\n",
        "\\mathbf{H} = \\mathbf{I} - 2 \\mathbf{u} \\mathbf{u}^T\n",
        "$$\n",
        "\n",
        "Given two equal-length vectors $\\mathbf{x}$ and $\\mathbf{y}$, a rotation which brings $\\mathbf{x}$ to $\\mathbf{y}$ is a Householder transform with\n",
        "\n",
        "$$\n",
        "\\mathbf{u} = \\frac{\\mathbf{x} - \\mathbf{y}}{\\left|\\mathbf{x} - \\mathbf{y}\\right|}\n",
        "$$"
      ]
    },
    {
      "cell_type": "markdown",
      "metadata": {
        "id": "0SvLbsbc0oqh"
      },
      "source": [
        "Write a function which rotates a given vector, $\\mathbf{x} = (x_1, \\dots, x_n)$ into $\\mathbf{y} = (\\left|\\mathbf{x}\\right|, 0, \\dots, 0)^T$ using a Householder transformation."
      ]
    },
    {
      "cell_type": "code",
      "metadata": {
        "id": "_xCVjiVB0jco"
      },
      "source": [
        "def householder(vec):\n",
        "    \"\"\"Construct a Householder reflection to zero out 2nd and further components of a vector.\n",
        "\n",
        "    Parameters\n",
        "    ----------\n",
        "    vec : array-like of floats, shape (n,)\n",
        "        Input vector\n",
        "    \n",
        "    Returns\n",
        "    -------\n",
        "    outvec : array of floats, shape (n,)\n",
        "        Transformed vector, with ``outvec[1:]==0`` and ``|outvec| == |vec|``\n",
        "    H : array of floats, shape (n, n)\n",
        "        Orthogonal matrix of the Householder reflection\n",
        "    \"\"\"\n",
        "    # ... ENTER YOUR CODE HERE ...\n",
        "    vec = np.asarray(vec, dtype=float)\n",
        "    if vec.ndim != 1:\n",
        "        raise ValueError(\"Input vector must be one-dimensional\")\n",
        "\n",
        "    n = vec.shape[0]\n",
        "    outvec = np.zeros(n)\n",
        "    outvec[0] = np.linalg.norm(vec)  # make y = (|x|, 0, 0, ..., 0)\n",
        "\n",
        "    u = vec - outvec  # Compute the reflection vector\n",
        "    u = u / np.linalg.norm(u)  # Normalize u\n",
        "\n",
        "    # Create an identity matrix of appropriate size\n",
        "    I = np.eye(n)\n",
        "\n",
        "    # Create the Householder reflection matrix\n",
        "    H = I - 2 * np.outer(u, u)\n",
        "    outvec = H @ vec\n",
        "\n",
        "    return outvec, H"
      ],
      "execution_count": 8,
      "outputs": []
    },
    {
      "cell_type": "markdown",
      "metadata": {
        "id": "otdj2PA8bGwx"
      },
      "source": [
        "Test your function using tests below:"
      ]
    },
    {
      "cell_type": "code",
      "metadata": {
        "id": "D6TICN9QbKQH"
      },
      "source": [
        "# Test I.1 (10% of the total grade).\n",
        "\n",
        "v = np.array([1, 2, 3])\n",
        "v1, h = householder(v)\n",
        "\n",
        "assert_allclose(np.dot(h, v1), v)\n",
        "assert_allclose(np.dot(h, v), v1)"
      ],
      "execution_count": 10,
      "outputs": []
    },
    {
      "cell_type": "code",
      "metadata": {
        "id": "Y_iJuPlpbzLI"
      },
      "source": [
        "# Test I.2 (10% of the total grade).\n",
        "\n",
        "rndm = np.random.RandomState(1234)\n",
        "\n",
        "vec = rndm.uniform(size=7)\n",
        "v1, h = householder(vec)\n",
        "\n",
        "assert_allclose(np.dot(h, v1), vec)"
      ],
      "execution_count": 12,
      "outputs": []
    },
    {
      "cell_type": "markdown",
      "metadata": {
        "id": "wNDpJogKb-WW"
      },
      "source": [
        "# Part II. Compute the $\\mathrm{QR}$ decomposition of a matrix.\n",
        "\n",
        "Given a rectangular $m\\times n$ matrix $\\mathbf{A}$, construct a Householder reflector matrix $\\mathbf{H}_1$ which transforms the first column of $\\mathbf{A}$ (and call the result $\\mathbf{A}^{(1)}$)\n",
        "\n",
        "$$\n",
        "\\mathbf{H}_1 \\mathbf{A} =%\n",
        "\\begin{pmatrix}\n",
        "\\times & \\times & \\times & \\dots & \\times \\\\\n",
        "0      & \\times & \\times & \\dots & \\times \\\\\n",
        "0      & \\times & \\times & \\dots & \\times \\\\\n",
        "&& \\dots&& \\\\\n",
        "0      & \\times & \\times & \\dots & \\times \\\\\n",
        "\\end{pmatrix}%\n",
        "\\equiv \\mathbf{A}^{(1)}\\;.\n",
        "$$\n",
        "\n",
        "Now consider the lower-right submatrix of $\\mathbf{A}^{(1)}$, and construct a Householder reflector which annihilates the second column of $\\mathbf{A}$:\n",
        "\n",
        "$$\n",
        "\\mathbf{H}_2 \\mathbf{A}^{(1)} =%\n",
        "\\begin{pmatrix}\n",
        "\\times & \\times & \\times & \\dots & \\times \\\\\n",
        "0      & \\times & \\times & \\dots & \\times \\\\\n",
        "0      & 0      & \\times & \\dots & \\times \\\\\n",
        "&& \\dots&& \\\\\n",
        "0      & 0      & \\times & \\dots & \\times \\\\\n",
        "\\end{pmatrix}%\n",
        "\\equiv \\mathbf{A}^{(2)} \\;.\n",
        "$$\n",
        "\n",
        "Repeating the process $n-1$ times, we obtain\n",
        "\n",
        "$$\n",
        "\\mathbf{H}_{n-1} \\cdots \\mathbf{H}_2 \\mathbf{H}_1 \\mathbf{A} = \\mathbf{R} \\;,\n",
        "$$\n",
        "\n",
        "with $\\mathbf{R}$ an upper triangular matrix. Since each $\\mathbf{H}_k$ is orthogonal, so is their product. The inverse of an orthogonal matrix is orthogonal. Hence the process generates the $\\mathrm{QR}$ decomposition of $\\mathbf{A}$. \n",
        "\n",
        "$$\n",
        "\\mathbf{A} = (\\mathbf{H}_{n-1} \\cdots \\mathbf{H}_2 \\mathbf{H}_1)^{-1} \\mathbf{R} \\;,\n",
        "$$\n",
        "so \n",
        "$$\n",
        "\\mathbf{A} =  \\mathbf{Q} \\mathbf{R} \\;,\n",
        "$$\n",
        "with\n",
        "$$\n",
        "\\mathbf{Q} = (\\mathbf{H}_{n-1} \\cdots \\mathbf{H}_2 \\mathbf{H}_1)^{-1} =  \\mathbf{H}_1^{-1}  \\mathbf{H}_2^{-1}  \\cdots \\mathbf{H}_{n-1}^{-1} = \\mathbf{H}_1^T  \\mathbf{H}_2^T  \\cdots \\mathbf{H}_{n-1}^T \n",
        "$$\n",
        "Since $\\mathbf{H}_i$ is ortogonal\n",
        "$$\n",
        "\\mathbf{H}_i\\mathbf{H}_i^T = \\mathbf{I}\n",
        "$$\n",
        "then\n",
        "$$\n",
        "\\mathbf{H}^{-1} = \\mathbf{H}^T \n",
        "$$\n",
        "but also  $\\mathbf{H}_i$ is symetric\n",
        "$$\n",
        "\\mathbf{H}_i^T = \\mathbf{H}_i\n",
        "$$\n",
        "so\n",
        "$$\n",
        "\\mathbf{Q} = \\mathbf{H}_1^{-1}  \\mathbf{H}_2^{-1}  \\cdots \\mathbf{H}_{n-1}^{-1} = \\mathbf{H}_1^T  \\mathbf{H}_2^T  \\cdots \\mathbf{H}_{n-1}^T =  \\mathbf{H}_1 \\mathbf{H}_2  \\cdots \\mathbf{H}_{n-1}\n",
        "$$\n"
      ]
    },
    {
      "cell_type": "code",
      "metadata": {
        "id": "-asgo49bb42_"
      },
      "source": [
        "def qr_decomp(a):\n",
        "    \"\"\"Compute the QR decomposition of a matrix.\n",
        "    \n",
        "    Parameters\n",
        "    ----------\n",
        "    a : ndarray, shape(m, n)\n",
        "        The input matrix\n",
        "    \n",
        "    Returns\n",
        "    -------\n",
        "    Q : ndarray, shape(m, m)\n",
        "        The orthogonal matrix\n",
        "    R : ndarray, shape(m, n)\n",
        "        The upper triangular matrix\n",
        "        \n",
        "    Examples\n",
        "    --------\n",
        "    >>> a = np.random.random(size=(3, 5))\n",
        "    >>> q, r = qr_decomp(a)\n",
        "    >>> np.assert_allclose(np.dot(q, r), a)\n",
        "    \n",
        "    \"\"\"\n",
        "    # ... ENTER YOUR CODE HERE ...\n",
        "    a1 = np.array(a, copy=True, dtype=float)\n",
        "    m, n = a1.shape\n",
        "    \n",
        "    # Initialize orthogonal matrix Q and upper triangular matrix R\n",
        "    Q = np.eye(m)\n",
        "    R = a1.copy()\n",
        "    \n",
        "    for i in range(min(m-1, n)):\n",
        "        # Apply Householder transformation\n",
        "        _, H_i = householder(R[i:, i])\n",
        "        \n",
        "        # Create an identity matrix of appropriate size\n",
        "        H = np.eye(m)\n",
        "        H[i:, i:] = H_i\n",
        "\n",
        "        # Update Q and R\n",
        "        Q = np.dot(Q, H)\n",
        "        R = np.dot(H, R)\n",
        "\n",
        "    return Q,R"
      ],
      "execution_count": null,
      "outputs": []
    },
    {
      "cell_type": "code",
      "metadata": {
        "id": "9JNb9e0Ncv-B"
      },
      "source": [
        "# Might want to turn this on for prettier printing: zeros instead of `1e-16` etc\n",
        "\n",
        "np.set_printoptions(suppress=True)"
      ],
      "execution_count": null,
      "outputs": []
    },
    {
      "cell_type": "code",
      "metadata": {
        "id": "SiI3KkVnsqQz"
      },
      "source": [
        "# Test II.1 (20% of the total grade)\n",
        "\n",
        "rndm = np.random.RandomState(1234)\n",
        "a = rndm.uniform(size=(5, 3))\n",
        "q, r = qr_decomp(a)\n",
        "\n",
        "# test that Q is indeed orthogonal\n",
        "assert_allclose(np.dot(q, q.T), np.eye(5), atol=1e-10)\n",
        "\n",
        "# test the decomposition itself\n",
        "assert_allclose(np.dot(q, r), a)"
      ],
      "execution_count": null,
      "outputs": []
    },
    {
      "cell_type": "markdown",
      "metadata": {
        "id": "zB1DDyVps5Br"
      },
      "source": [
        "Now compare your decompositions to the library function (which actually wraps the corresponding LAPACK functions)"
      ]
    },
    {
      "cell_type": "code",
      "metadata": {
        "id": "mfDa37dts6K6"
      },
      "source": [
        "from scipy.linalg import qr\n",
        "qq, rr = qr(a)\n",
        "\n",
        "assert_allclose(np.dot(qq, rr), a)"
      ],
      "execution_count": null,
      "outputs": []
    },
    {
      "cell_type": "markdown",
      "metadata": {
        "id": "IFOrXiW5tGjL"
      },
      "source": [
        "Check if your q and r agree with qq and rr. Explain."
      ]
    },
    {
      "cell_type": "code",
      "metadata": {
        "id": "d2sBV9aPdoJA",
        "colab": {
          "base_uri": "https://localhost:8080/"
        },
        "outputId": "a0134704-ba17-4f6d-b543-11f76d2ecf96"
      },
      "source": [
        "from scipy.linalg import qr\n",
        "a = np.array([[4,3,1], [5,7,0], [9,9,3], [8,2,4], [9,3,1]])\n",
        "q, r = qr_decomp(a)\n",
        "qq, rr = qr(a)\n",
        "print(q)\n",
        "print(qq)\n",
        "print(r)\n",
        "print(rr)\n",
        "print(a)\n",
        "print(q@r)\n",
        "print(qq@rr)"
      ],
      "execution_count": null,
      "outputs": [
        {
          "output_type": "stream",
          "name": "stdout",
          "text": [
            "[[ 0.24479602  0.06723049 -0.00981821  0.96611775  0.04555281]\n",
            " [ 0.30599503  0.58266423 -0.33762629 -0.09006618 -0.6669078 ]\n",
            " [ 0.55079106  0.4964713   0.36457628 -0.19531237  0.52828277]\n",
            " [ 0.48959205 -0.47923271  0.55563068 -0.06304632 -0.46683546]\n",
            " [ 0.55079106 -0.42406923 -0.66653641 -0.12799536  0.23694072]]\n",
            "[[-0.24479602 -0.06723049  0.00981821 -0.41631113 -0.87300837]\n",
            " [-0.30599503 -0.58266423  0.33762629  0.64971343 -0.17535786]\n",
            " [-0.55079106 -0.4964713  -0.36457628 -0.41134781  0.38473703]\n",
            " [-0.48959205  0.47923271 -0.55563068  0.4547994  -0.1227505 ]\n",
            " [-0.55079106  0.42406923  0.66653641 -0.16884307  0.20979928]]\n",
            "[[16.34013464 10.46503005  4.40632844]\n",
            " [-0.          6.51790964 -0.7843557 ]\n",
            " [ 0.         -0.          2.63989693]\n",
            " [-0.          0.          0.        ]\n",
            " [-0.         -0.         -0.        ]]\n",
            "[[-16.34013464 -10.46503005  -4.40632844]\n",
            " [  0.          -6.51790964   0.7843557 ]\n",
            " [  0.           0.          -2.63989693]\n",
            " [  0.           0.           0.        ]\n",
            " [  0.           0.           0.        ]]\n",
            "[[4 3 1]\n",
            " [5 7 0]\n",
            " [9 9 3]\n",
            " [8 2 4]\n",
            " [9 3 1]]\n",
            "[[4. 3. 1.]\n",
            " [5. 7. 0.]\n",
            " [9. 9. 3.]\n",
            " [8. 2. 4.]\n",
            " [9. 3. 1.]]\n",
            "[[4. 3. 1.]\n",
            " [5. 7. 0.]\n",
            " [9. 9. 3.]\n",
            " [8. 2. 4.]\n",
            " [9. 3. 1.]]\n"
          ]
        }
      ]
    },
    {
      "cell_type": "markdown",
      "metadata": {
        "id": "mv5qlwoHMwvU"
      },
      "source": [
        "Enter your explanation here (10% of the total grade, peer-graded)"
      ]
    },
    {
      "cell_type": "markdown",
      "source": [
        "La descomposición QR es un proceso por el cual una matriz se descompone en el producto de una matriz ortogonal $Q$ y una matriz triangular superior $R$. Matemáticamente, esto se expresa como $A=QR$.\n",
        "\n",
        "La descomposición QR no es única, lo que significa que para una matriz dada $A$, existen múltiples pares válidos de matrices $Q$ y $R$ que satisfacen la ecuación anterior. Esta es una de las razones por las que las matrices $Q$ y $R$ que obtenemos de nuestra función no son exactamente las mismas que las que obtenemos de la función qr de scipy.\n",
        "\n",
        "En nuestra implementación, utilizamos la transformación de Householder para realizar la descomposición QR. La transformación de Householder es una forma de realizar una reflexión de un vector sobre un plano. En el contexto de la descomposición QR, utilizamos la transformación de Householder para \"rotar\" las columnas de la matriz $A$ a lo largo del proceso de descomposición, generando de esta manera la matriz ortogonal $Q$ y la matriz triangular superior $R$.\n",
        "\n",
        "En cuanto a las pruebas realizadas:\n",
        "```\n",
        "a = np.array([[4,3,1], [5,7,0], [9,9,3], [8,2,4], [9,3,1]])\n",
        "q, r = qr_decomp(a)\n",
        "qq, rr = qr(a)\n",
        "```\n",
        "\n",
        "Vemos que $q @ r$ devuelve la matriz $A$ original, lo que indica que la descomposición QR se realizó correctamente. Aunque las matrices $Q$ y $R$ difieren en los signos de algunas filas en comparación con la implementación de scipy, la descomposición es válida y correcta.\n",
        "\n",
        "En resumen, aunque la implementación de la descomposición QR utilizando la transformación de Householder puede dar resultados que difieren en los signos de las filas en comparación con otras implementaciones, el resultado sigue siendo una descomposición QR válida y correcta de la matriz original."
      ],
      "metadata": {
        "id": "F3NnhahC3ne8"
      }
    },
    {
      "cell_type": "markdown",
      "metadata": {
        "id": "zwqwAkrotneq"
      },
      "source": [
        "# Part III. Avoid forming Householder matrices explicitly."
      ]
    },
    {
      "cell_type": "markdown",
      "metadata": {
        "id": "LfaWxcavtofS"
      },
      "source": [
        "Note the special structure of the Householder matrices: A reflector $\\mathbf{H}$ is completely specified by a reflection vector $\\mathbf{u}$. Also note that the computational cost of applying a reflector to a matrix strongly depends on the order of operations:\n",
        "\n",
        "$$\n",
        "\\left( \\mathbf{u} \\mathbf{u}^T \\right) \\mathbf{A}  \\qquad \\textrm{is } O(m^2 n)\\;,\n",
        "$$\n",
        "while\n",
        "$$\n",
        "\\mathbf{u} \\left( \\mathbf{u}^T \\mathbf{A} \\right) \\qquad \\textrm{is } O(mn)\n",
        "$$\n",
        "\n",
        "Thus, it seems to make sense to *avoid* forming the $\\mathbf{H}$ matrices. Instead, one stores the reflection vectors, $\\mathbf{u}$, themselves, and provides a way of multiplying an arbitrary matrix by $\\mathbf{Q}^T$, e.g., as a standalone function (or a class).\n",
        "\n",
        "\n",
        "\n"
      ]
    },
    {
      "cell_type": "markdown",
      "metadata": {
        "id": "xdrCItiYt027"
      },
      "source": [
        "Write a function which constructs the `QR` decomposition of a matrix *without ever forming the* $\\mathbf{H}$ matrices, and returns the $\\mathbf{R}$ matrix and reflection vectors. \n",
        "\n",
        "Write a second function, which uses reflection vectors to multiply a matrix with $\\mathbf{Q}^T$. Make sure to include enough comments for a marker to follow your implementation, and add tests. \n",
        "\n",
        "(Peer-graded, 40% of the total grade)"
      ]
    },
    {
      "cell_type": "markdown",
      "metadata": {
        "id": "02SQz3w1MAdF"
      },
      "source": [
        "$$\n",
        "\\mathbf{R} = \\mathbf{H}_{n-1} \\cdots \\mathbf{H}_2 \\mathbf{H}_1 \\mathbf{A} \n",
        "$$\n",
        "and \n",
        "$$\n",
        "\\mathbf{H}_i = \\mathbf{I} - 2 \\mathbf{u}_i \\mathbf{u}_i^T\n",
        "$$\n",
        "so if\n",
        "$$\n",
        "\\mathbf{R}_0 =  \\mathbf{A}\n",
        "$$\n",
        "then \n",
        "$$\n",
        "\\mathbf{R}_1 = \\mathbf{H}_1 \\mathbf{R}_0= \\ (\\mathbf{I} - 2 \\mathbf{u}_1 \\mathbf{u}_1^T) \\mathbf{R}_0 =  \\mathbf{R}_0 -  2 \\mathbf{u}_1 ( \\mathbf{u}_1^T  \\mathbf{R}_0)\n",
        "$$\n",
        "and\n",
        "$$\n",
        "\\mathbf{R}_2 = \\mathbf{H}_2 \\mathbf{R}_1 = \\ (\\mathbf{I} - 2 \\mathbf{u}_2 \\mathbf{u}_2^T) \\mathbf{R}_1 =  \\mathbf{R}_1 -  2 \\mathbf{u}_2 ( \\mathbf{u}_2^T  \\mathbf{R}_1)\n",
        "$$\n",
        "so on until\n",
        "$$\n",
        "\\mathbf{R} = \\mathbf{H}_n \\mathbf{R}_{n-1} =  (\\mathbf{I} - 2 \\mathbf{u}_{n-1} \\mathbf{u}_{n-1}^T) \\mathbf{R}_{n-1} = \\mathbf{R}_{n-1} -  2 \\mathbf{u}_{n-1} ( \\mathbf{u}_{n-1}^T  \\mathbf{R}_{n-1})\n",
        "$$"
      ]
    },
    {
      "cell_type": "markdown",
      "metadata": {
        "id": "pfIyTAAyL3xd"
      },
      "source": [
        "$$\n",
        "\\mathbf{Q} =  \\mathbf{H}_1 \\mathbf{H}_2  \\cdots \\mathbf{H}_{n-1}\n",
        "$$\n",
        "and\n",
        "$$\n",
        "\\mathbf{H}_i = \\mathbf{I} - 2 \\mathbf{u}_i \\mathbf{u}_i^T\n",
        "$$\n",
        "so \n",
        "$$\n",
        "\\mathbf{Q} =  (\\mathbf{I} - 2 \\mathbf{u}_1 \\mathbf{u}_1^T )( \\mathbf{I} - 2 \\mathbf{u}_2 \\mathbf{u}_2^T)  \\cdots (\\mathbf{I} - 2 \\mathbf{u}_{n-1} \\mathbf{u}_{n-1}^T)\n",
        "$$"
      ]
    },
    {
      "cell_type": "markdown",
      "source": [
        "##Solucion\n",
        "\n",
        "Estas funciones funcionan de la siguiente manera:\n",
        "\n",
        "* **r_decomp:** toma una matriz de $m \\times n$ como entrada y calcula la matriz triangular superior $R$ y una lista de vectores de reflexión. Esto se hace aplicando la transformación de Householder (sin generar la matriz $H$) a cada columna de la matriz, almacenando los vectores de reflexión a medida que avanza.\n",
        "\n",
        "* **q_decomp:** toma la lista de vectores de reflexión como entrada y calcula la matriz ortogonal $Q$ y su transpuesta $Q^T$. Esto se hace aplicando la transformación de Householder a cada vector de reflexión en orden inverso.\n",
        "\n",
        "La razón por la que aplicamos la transformación de Householder en orden inverso al calcular $Q$ en q_decomp es debido a la forma en que se construye $Q$ a partir de las transformaciones de Householder. Recordemos que en la descomposición QR, $Q$ se forma como el producto de las transformaciones de Householder, es decir,\n",
        "\n",
        "$$\n",
        "Q = H_1 H_2 ... H_n\n",
        "$$\n",
        "\n",
        "Sin embargo, cuando aplicamos las transformaciones de Householder a la matriz $A$ para obtener $R$ en `r_decomp`, empezamos desde la primera columna y avanzamos hacia la última. Esto significa que la última transformación de Householder que aplicamos es $H_n$, y la primera es $H_1$.\n",
        "\n",
        "Por lo tanto, cuando queremos reconstruir $Q$ a partir de los vectores de reflexión, necesitamos aplicar las transformaciones de Householder en el orden inverso: primero $H_n$, luego $H_{n-1}$, y así sucesivamente, hasta llegar a $H_1$. De ahí que recorramos los vectores de reflexión en orden inverso en q_decomp.\n"
      ],
      "metadata": {
        "id": "UOq0tC-JznSJ"
      }
    },
    {
      "cell_type": "code",
      "metadata": {
        "id": "agH0iQYjt145"
      },
      "source": [
        "def r_decomp(a):\n",
        "    \"\"\"Compute R without ever forming the  H  matrices\n",
        "    \n",
        "    Parameters\n",
        "    ----------\n",
        "    a : ndarray, shape(m, n)\n",
        "        The input matrix\n",
        "    \n",
        "    Returns\n",
        "    -------\n",
        "    \n",
        "    R : ndarray, shape(m, n)\n",
        "        The upper triangular matrix\n",
        "    vecs:  reflection vectors.\n",
        "        \n",
        "    \"\"\"\n",
        "    # Initialize the dimensions of the matrix and a copy of the input matrix\n",
        "    m, n = a.shape\n",
        "    R = np.array(a, copy=True, dtype=float)\n",
        "    vecs = []\n",
        "    \n",
        "    # Loop through each column in the matrix\n",
        "    for i in range(min(m, n)):\n",
        "        # Determine x as the ith column from the ith row to the end\n",
        "        x = R[i:, i]\n",
        "        \n",
        "        # Create the first elementary vector with the norm of x\n",
        "        e1 = np.zeros_like(x)\n",
        "        e1[0] = np.linalg.norm(x)\n",
        "        \n",
        "        # Compute the reflection vector u\n",
        "        u = (x - e1) / np.linalg.norm(x - e1)\n",
        "        \n",
        "        # Make sure u is 2D for outer product\n",
        "        u = u.reshape(-1, 1)\n",
        "        \n",
        "        # Update R using the Householder transformation\n",
        "        R[i:, :] -= 2 * np.outer(u, np.dot(u.T, R[i:, :]))\n",
        "        \n",
        "        # Store the reflection vector\n",
        "        vecs.append(u)\n",
        "        \n",
        "    return R, vecs"
      ],
      "execution_count": null,
      "outputs": []
    },
    {
      "cell_type": "code",
      "metadata": {
        "id": "n_ER2kVdLprT"
      },
      "source": [
        "def q_decomp(vecs):\n",
        "    \"\"\"Compute Q and QT from reflection vectors\n",
        "    \n",
        "    Parameters\n",
        "    ----------\n",
        "    a : ndarray, shape(m, n)\n",
        "        The input matrix\n",
        "    \n",
        "    Returns\n",
        "    -------\n",
        "    \n",
        "    Q : ndarray, shape(m, m)\n",
        "        The ortogonal matrix\n",
        "    Q.T : ndarray, shape(m, m)\n",
        "        The transpose of Q\n",
        "\n",
        "    \"\"\"\n",
        "    \n",
        "    # Initialize the dimensions of the matrix and the orthogonal matrix Q\n",
        "    m, n = len(vecs[0]), len(vecs)\n",
        "    Q = np.eye(m)\n",
        "\n",
        "    # Loop through each reflection vector in reverse order\n",
        "    for i in range(n-1, -1, -1):\n",
        "        # Retrieve the reflection vector\n",
        "        u = vecs[i]\n",
        "        \n",
        "        # Apply the Householder transformation to compute Q\n",
        "        Q[i:, :] -= 2 * np.outer(u, np.dot(u.T, Q[i:, :]))\n",
        "\n",
        "    return Q, Q.T"
      ],
      "execution_count": null,
      "outputs": []
    },
    {
      "cell_type": "code",
      "metadata": {
        "id": "a6TJziVDUQf3"
      },
      "source": [
        "rndm = np.random.RandomState(1234)\n",
        "a = rndm.uniform(size=(5, 3))\n",
        "r, vecs = r_decomp(a)\n",
        "q,qt = q_decomp(vecs)\n",
        "\n",
        "# test that Q is indeed orthogonal\n",
        "assert_allclose(np.dot(q, q.T), np.eye(5), atol=1e-10)\n",
        "\n",
        "# test the decomposition itself\n",
        "assert_allclose(np.dot(q, r), a)"
      ],
      "execution_count": null,
      "outputs": []
    },
    {
      "cell_type": "code",
      "metadata": {
        "id": "-eaGWWkHX-dP"
      },
      "source": [
        "from scipy.linalg import qr\n",
        "qq, rr = qr(a)\n",
        "\n",
        "assert_allclose(np.dot(qq, rr), a)"
      ],
      "execution_count": null,
      "outputs": []
    },
    {
      "cell_type": "code",
      "metadata": {
        "colab": {
          "base_uri": "https://localhost:8080/"
        },
        "id": "6JGctCeR_LLn",
        "outputId": "0c2e682a-ffc3-418d-9b2c-cbdf424374b2"
      },
      "source": [
        "a = np.array([[4,3,1], [5,7,0], [9,9,3], [8,2,4], [9,3,1]])\n",
        "\n",
        "R, vecs = r_decomp(a)\n",
        "print(\"R\\n \",R)\n",
        "Q,QT = q_decomp(vecs)\n",
        "print(\"Q\\n\",Q)\n",
        "print(\"QT\\n\",QT)\n",
        "print(\"QT@Q\\n\",QT@Q)\n",
        "print(\"a\\n\",a)\n",
        "print(\"Q@R\\n\",Q@R)"
      ],
      "execution_count": null,
      "outputs": [
        {
          "output_type": "stream",
          "name": "stdout",
          "text": [
            "R\n",
            "  [[ 1.61839412  1.17890421  1.36842918  1.22768351  1.12481109  1.35795386\n",
            "   0.87161556  1.34669348  1.39682262  1.31610299]\n",
            " [ 0.          1.21785273  0.64152057  0.7313886   0.77565281  0.12662892\n",
            "   0.60228924  0.8671724   0.88728703  0.11738625]\n",
            " [ 0.          0.          0.81636704  0.67935458  0.18563451  0.51695514\n",
            "   0.81199905  0.26632949  0.35972986  1.2880038 ]\n",
            " [ 0.          0.          0.          0.83886519 -0.22405303  0.14690957\n",
            "   0.06468693 -0.37837253  0.14547754  0.44206078]\n",
            " [ 0.          0.          0.          0.          0.96398955  0.6019798\n",
            "   0.74370122  0.87058606  0.11445947  0.38955036]\n",
            " [ 0.         -0.          0.         -0.         -0.          0.77685161\n",
            "  -0.2780351  -0.23658784  0.79297888 -0.05786737]\n",
            " [ 0.          0.          0.          0.          0.         -0.\n",
            "   0.66769434  0.44736249  0.00724853  0.52938218]\n",
            " [ 0.          0.          0.         -0.          0.          0.\n",
            "   0.          0.53620708  0.07635323 -0.01494886]\n",
            " [ 0.          0.          0.          0.          0.          0.\n",
            "   0.         -0.          0.38952551 -0.22592721]\n",
            " [ 0.         -0.          0.          0.          0.         -0.\n",
            "   0.          0.          0.          0.1760207 ]]\n",
            "Q\n",
            " [[ 0.17117358  0.13692516  0.39471897  0.24050505  0.19758791 -0.10858881\n",
            "   0.14365548 -0.48175069  0.59573915 -0.28257228]\n",
            " [ 0.42446467 -0.32504483  0.07970559 -0.02989222  0.01149292 -0.38773294\n",
            "   0.50290474  0.43564333 -0.08614054 -0.32610072]\n",
            " [ 0.53057155  0.12912765 -0.31410105  0.15929855 -0.5143095   0.31915515\n",
            "   0.30123272 -0.16945435  0.11403597  0.28098039]\n",
            " [ 0.12189441  0.06509777  0.03071961 -0.11986504  0.44001574 -0.34430696\n",
            "   0.1976358  -0.03320899  0.06500685  0.78041203]\n",
            " [ 0.1289384   0.64304392 -0.40378815  0.3955884   0.35629919 -0.10083073\n",
            "  -0.0476385   0.23016756 -0.11601873 -0.21097755]\n",
            " [ 0.02689429  0.34950318  0.52962152  0.15052839 -0.28662628 -0.22324565\n",
            "   0.08283581 -0.22134875 -0.61910048  0.05320511]\n",
            " [ 0.53446104 -0.24995951 -0.15021194 -0.1871047   0.34181803  0.06157699\n",
            "  -0.33926899 -0.44328072 -0.37239444 -0.15293691]\n",
            " [ 0.01099742  0.09060549  0.31085873 -0.10132796  0.39531553  0.73158836\n",
            "   0.37913554  0.15454816 -0.15958192 -0.0133422 ]\n",
            " [ 0.34192647 -0.14937439  0.38637781  0.4134702  -0.01772207  0.13008325\n",
            "  -0.52946261  0.42642916  0.11824362  0.2171138 ]\n",
            " [ 0.27227425  0.47542183  0.16190241 -0.71143377 -0.14201085 -0.03903817\n",
            "  -0.21986316  0.21003909  0.21347894 -0.08814691]]\n",
            "QT\n",
            " [[ 0.17117358  0.42446467  0.53057155  0.12189441  0.1289384   0.02689429\n",
            "   0.53446104  0.01099742  0.34192647  0.27227425]\n",
            " [ 0.13692516 -0.32504483  0.12912765  0.06509777  0.64304392  0.34950318\n",
            "  -0.24995951  0.09060549 -0.14937439  0.47542183]\n",
            " [ 0.39471897  0.07970559 -0.31410105  0.03071961 -0.40378815  0.52962152\n",
            "  -0.15021194  0.31085873  0.38637781  0.16190241]\n",
            " [ 0.24050505 -0.02989222  0.15929855 -0.11986504  0.3955884   0.15052839\n",
            "  -0.1871047  -0.10132796  0.4134702  -0.71143377]\n",
            " [ 0.19758791  0.01149292 -0.5143095   0.44001574  0.35629919 -0.28662628\n",
            "   0.34181803  0.39531553 -0.01772207 -0.14201085]\n",
            " [-0.10858881 -0.38773294  0.31915515 -0.34430696 -0.10083073 -0.22324565\n",
            "   0.06157699  0.73158836  0.13008325 -0.03903817]\n",
            " [ 0.14365548  0.50290474  0.30123272  0.1976358  -0.0476385   0.08283581\n",
            "  -0.33926899  0.37913554 -0.52946261 -0.21986316]\n",
            " [-0.48175069  0.43564333 -0.16945435 -0.03320899  0.23016756 -0.22134875\n",
            "  -0.44328072  0.15454816  0.42642916  0.21003909]\n",
            " [ 0.59573915 -0.08614054  0.11403597  0.06500685 -0.11601873 -0.61910048\n",
            "  -0.37239444 -0.15958192  0.11824362  0.21347894]\n",
            " [-0.28257228 -0.32610072  0.28098039  0.78041203 -0.21097755  0.05320511\n",
            "  -0.15293691 -0.0133422   0.2171138  -0.08814691]]\n",
            "QT@Q\n",
            " [[ 1. -0.  0.  0. -0. -0.  0. -0. -0.  0.]\n",
            " [-0.  1.  0.  0.  0. -0.  0.  0.  0. -0.]\n",
            " [ 0.  0.  1. -0. -0. -0.  0. -0.  0. -0.]\n",
            " [ 0.  0. -0.  1.  0. -0.  0. -0.  0.  0.]\n",
            " [-0.  0. -0.  0.  1.  0. -0. -0. -0. -0.]\n",
            " [-0. -0. -0. -0.  0.  1.  0.  0.  0. -0.]\n",
            " [ 0.  0.  0.  0. -0.  0.  1. -0. -0.  0.]\n",
            " [-0.  0. -0. -0. -0.  0. -0.  1. -0. -0.]\n",
            " [-0.  0.  0.  0. -0.  0. -0. -0.  1. -0.]\n",
            " [ 0. -0. -0.  0. -0. -0.  0. -0. -0.  1.]]\n",
            "a\n",
            " [[0.27702631 0.36855193 0.64431478 0.78019793 0.50860458 0.52375554\n",
            "  0.84079088 0.36703687 0.67039217 0.83824478]\n",
            " [0.68695113 0.10454645 0.43739591 0.312447   0.25789323 0.27776367\n",
            "  0.68912355 0.88260646 0.02602322 0.85862196]\n",
            " [0.85867388 0.78275149 0.55246589 0.66606045 0.10716268 0.53620156\n",
            "  0.02538384 0.2032033  0.99375119 0.34617771]\n",
            " [0.19727319 0.22298133 0.2336439  0.11757842 0.64433077 0.16944675\n",
            "  0.71757331 0.80927893 0.02319297 0.57378211]\n",
            " [0.20867315 0.93513882 0.25932964 0.68614056 0.82368907 0.24205012\n",
            "  0.45860363 0.9102002  0.59582483 0.00502113]\n",
            " [0.04352556 0.45734919 0.69338195 0.77471415 0.08962906 0.03071107\n",
            "  0.57794768 0.14504912 0.09280349 0.92278058]\n",
            " [0.8649686  0.3256645  0.44838984 0.21432868 0.75083177 0.84258475\n",
            "  0.19178339 0.42733378 0.35009749 0.41170836]\n",
            " [0.01779816 0.12330905 0.32694929 0.20595198 0.5441374  0.9785288\n",
            "  0.65375468 0.63806341 0.77060767 0.72446657]\n",
            " [0.55337179 0.22118255 0.68750152 0.91986006 0.23074193 0.79627502\n",
            "  0.14567956 0.22298276 0.72012007 0.82331916]\n",
            " [0.44064705 0.89997903 0.8097527  0.19517683 0.72757597 0.29330335\n",
            "  0.36754301 0.99111823 0.80728599 0.07184368]]\n",
            "Q@R\n",
            " [[0.27702631 0.36855193 0.64431478 0.78019793 0.50860458 0.52375554\n",
            "  0.84079088 0.36703687 0.67039217 0.83824478]\n",
            " [0.68695113 0.10454645 0.43739591 0.312447   0.25789323 0.27776367\n",
            "  0.68912355 0.88260646 0.02602322 0.85862196]\n",
            " [0.85867388 0.78275149 0.55246589 0.66606045 0.10716268 0.53620156\n",
            "  0.02538384 0.2032033  0.99375119 0.34617771]\n",
            " [0.19727319 0.22298133 0.2336439  0.11757842 0.64433077 0.16944675\n",
            "  0.71757331 0.80927893 0.02319297 0.57378211]\n",
            " [0.20867315 0.93513882 0.25932964 0.68614056 0.82368907 0.24205012\n",
            "  0.45860363 0.9102002  0.59582483 0.00502113]\n",
            " [0.04352556 0.45734919 0.69338195 0.77471415 0.08962906 0.03071107\n",
            "  0.57794768 0.14504912 0.09280349 0.92278058]\n",
            " [0.8649686  0.3256645  0.44838984 0.21432868 0.75083177 0.84258475\n",
            "  0.19178339 0.42733378 0.35009749 0.41170836]\n",
            " [0.01779816 0.12330905 0.32694929 0.20595198 0.5441374  0.9785288\n",
            "  0.65375468 0.63806341 0.77060767 0.72446657]\n",
            " [0.55337179 0.22118255 0.68750152 0.91986006 0.23074193 0.79627502\n",
            "  0.14567956 0.22298276 0.72012007 0.82331916]\n",
            " [0.44064705 0.89997903 0.8097527  0.19517683 0.72757597 0.29330335\n",
            "  0.36754301 0.99111823 0.80728599 0.07184368]]\n"
          ]
        }
      ]
    }
  ]
}