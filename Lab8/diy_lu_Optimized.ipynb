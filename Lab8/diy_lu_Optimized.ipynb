{
  "nbformat": 4,
  "nbformat_minor": 0,
  "metadata": {
    "colab": {
      "provenance": [],
      "authorship_tag": "ABX9TyNnHGIYkqo9g0OfcNlV6Avj",
      "include_colab_link": true
    },
    "kernelspec": {
      "name": "python3",
      "display_name": "Python 3"
    },
    "language_info": {
      "name": "python"
    }
  },
  "cells": [
    {
      "cell_type": "markdown",
      "metadata": {
        "id": "view-in-github",
        "colab_type": "text"
      },
      "source": [
        "<a href=\"https://colab.research.google.com/github/mbuitragoc/MetNumUN2023I/blob/main/Lab8/diy_lu_Optimized.ipynb\" target=\"_parent\"><img src=\"https://colab.research.google.com/assets/colab-badge.svg\" alt=\"Open In Colab\"/></a>"
      ]
    },
    {
      "cell_type": "code",
      "execution_count": 1,
      "metadata": {
        "id": "d1dHZkgbYKgB"
      },
      "outputs": [],
      "source": [
        "def diy_lu_column_pivot_reconstruct(A):\n",
        "    \"\"\"Construct the LU decomposition of the input matrix.\n",
        "    \n",
        "    LU decomposition with pivot: work column by column, accumulate elementary triangular matrices L @ np.transpose(Pj) .\n",
        "    \"\"\"\n",
        "    N = A.shape[0]\n",
        "    \n",
        "    U = A.copy()\n",
        "    L = np.eye(N)\n",
        "    P = np.eye(N) #permutation matrix\n",
        "\n",
        "    for j in range(N-1):\n",
        "        \n",
        "        \n",
        "        #find row of max value in col j and swap that with row j\n",
        "        row = np.argmax(np.abs(U[j:,j]))+j #get row with max\n",
        "        #swap rows in matrix u with permutation matrix\n",
        "        U[[j,row]] = U[[row,j]] #swap the rows\n",
        "        \n",
        "        #Update  the permutation matrix\n",
        "        Pj = np.eye(N)\n",
        "        Pj[[j,row]] = Pj[[row,j]]\n",
        "        \n",
        "        Lj = np.eye(N)\n",
        "        gamma = U[j+1:, j] / U[j, j]\n",
        "        Lj[j+1:, j] = -gamma\n",
        "        U = Lj @ U\n",
        "\n",
        "        Lj[j+1:, j] = gamma  #  inv(Lj) = - Lj\n",
        "        \n",
        "        P =  Pj @P \n",
        "        \n",
        "        L = L @ Pj @ Lj\n",
        "\n",
        "\n",
        "    L =  P@L\n",
        "    return  P,L,U"
      ]
    },
    {
      "cell_type": "code",
      "source": [
        "import numpy as np\n",
        "def diy_lu_optimized(A):\n",
        "    n = A.shape[0]\n",
        "    U = np.copy(A)\n",
        "    L = np.eye(n)\n",
        "    P = np.eye(n)\n",
        "\n",
        "    for k in range(n - 1):\n",
        "        pivote = np.argmax(np.abs(U[k:, k])) + k\n",
        "        if pivote != k:\n",
        "            U[[k, pivote], :] = U[[pivote, k], :]\n",
        "            P[[k, pivote], :] = P[[pivote, k], :]\n",
        "            if k >= 1:\n",
        "                L[[k, pivote], :k] = L[[pivote, k], :k]\n",
        "\n",
        "        for i in range(k + 1, n):\n",
        "            L[i, k] = U[i, k] / U[k, k]\n",
        "            U[i, k:] -= L[i, k] * U[k, k:]\n",
        "\n",
        "    return P, L, U"
      ],
      "metadata": {
        "id": "R49EfLcWYN2J"
      },
      "execution_count": 16,
      "outputs": []
    },
    {
      "cell_type": "code",
      "source": [
        "def reconstruct_matrix(P, L, U):\n",
        "    return P.T @ L @ U"
      ],
      "metadata": {
        "id": "kCrSIWvlUoKu"
      },
      "execution_count": 19,
      "outputs": []
    },
    {
      "cell_type": "code",
      "source": [
        "a = np.array([[2, 1, 1], [4, 3, 3], [8, 7, 9]], dtype=np.float64)\n",
        "P, L, U = diy_lu_optimized(a)\n",
        "reconstructed_a = reconstruct_matrix(P, L, U)\n",
        "\n",
        "print(\"Original a:\")\n",
        "print(a)\n",
        "print(\"Reconstruccion:\")\n",
        "print(reconstructed_a)\n",
        "print(\"Igualdad:\", (np.allclose(a, reconstructed_a)))"
      ],
      "metadata": {
        "colab": {
          "base_uri": "https://localhost:8080/"
        },
        "id": "xMnALrAGUqf5",
        "outputId": "ff5526c4-6a84-4032-cdfc-0d0f59bb7095"
      },
      "execution_count": 20,
      "outputs": [
        {
          "output_type": "stream",
          "name": "stdout",
          "text": [
            "Original a:\n",
            "[[2. 1. 1.]\n",
            " [4. 3. 3.]\n",
            " [8. 7. 9.]]\n",
            "Reconstruccion:\n",
            "[[2. 1. 1.]\n",
            " [4. 3. 3.]\n",
            " [8. 7. 9.]]\n",
            "Igualdad: True\n"
          ]
        }
      ]
    },
    {
      "cell_type": "code",
      "source": [
        "import time\n",
        "\n",
        "import numpy as np\n",
        "\n",
        "N = 500\n",
        "A = np.zeros((N, N), dtype=float)\n",
        "for i in range(N):\n",
        "    for j in range(N):\n",
        "        A[i, j] = 3. / (0.6*i*j + 1)\n",
        "\n",
        "np.linalg.matrix_rank(A)"
      ],
      "metadata": {
        "colab": {
          "base_uri": "https://localhost:8080/"
        },
        "id": "LFhmaHQxYbgP",
        "outputId": "fdf6e968-dd9a-43cb-8bb8-ec3f7d06f3fc"
      },
      "execution_count": 3,
      "outputs": [
        {
          "output_type": "execute_result",
          "data": {
            "text/plain": [
              "10"
            ]
          },
          "metadata": {},
          "execution_count": 3
        }
      ]
    },
    {
      "cell_type": "code",
      "source": [
        "tic2 = time.perf_counter()\n",
        "diy_lu_optimized(A)\n",
        "toc2 = time.perf_counter()\n",
        "print(f\"Time in {toc2 - tic2:0.4f} seconds\")"
      ],
      "metadata": {
        "id": "u1smkqZRZud7",
        "colab": {
          "base_uri": "https://localhost:8080/"
        },
        "outputId": "2a7781a6-011a-4ef2-bfe1-d9343ee5e8a2"
      },
      "execution_count": 4,
      "outputs": [
        {
          "output_type": "stream",
          "name": "stdout",
          "text": [
            "Time in 0.4577 seconds\n"
          ]
        }
      ]
    },
    {
      "cell_type": "code",
      "source": [
        "tic = time.perf_counter()\n",
        "diy_lu_column_pivot_reconstruct(A)\n",
        "toc = time.perf_counter()\n",
        "\n",
        "print(f\"Time in {toc - tic:0.4f} seconds\")\n"
      ],
      "metadata": {
        "colab": {
          "base_uri": "https://localhost:8080/"
        },
        "id": "Ayg7BhytY_Wb",
        "outputId": "dbc42f95-1445-4121-f778-9cbc75db082d"
      },
      "execution_count": 5,
      "outputs": [
        {
          "output_type": "stream",
          "name": "stdout",
          "text": [
            "Time in 13.9538 seconds\n"
          ]
        }
      ]
    },
    {
      "cell_type": "code",
      "source": [
        "N = 800\n",
        "A = np.zeros((N, N), dtype=float)\n",
        "for i in range(N):\n",
        "    for j in range(N):\n",
        "        A[i, j] = 3. / (0.6*i*j + 1)\n",
        "\n",
        "np.linalg.matrix_rank(A)"
      ],
      "metadata": {
        "colab": {
          "base_uri": "https://localhost:8080/"
        },
        "id": "6a4GvAJvgiM8",
        "outputId": "d6550c0b-31e1-42a4-deac-1db9fb1a5a40"
      },
      "execution_count": null,
      "outputs": [
        {
          "output_type": "execute_result",
          "data": {
            "text/plain": [
              "10"
            ]
          },
          "metadata": {},
          "execution_count": 6
        }
      ]
    },
    {
      "cell_type": "code",
      "source": [
        "tic2 = time.perf_counter()\n",
        "diy_lu_optimized(A)\n",
        "toc2 = time.perf_counter()\n",
        "print(f\"Time in {toc2 - tic2:0.4f} seconds\")"
      ],
      "metadata": {
        "colab": {
          "base_uri": "https://localhost:8080/"
        },
        "id": "ZF95jwwagjmt",
        "outputId": "52528d7e-f792-4224-f228-6a84b11bab0f"
      },
      "execution_count": null,
      "outputs": [
        {
          "output_type": "stream",
          "name": "stdout",
          "text": [
            "Time in 0.3216 seconds\n"
          ]
        }
      ]
    },
    {
      "cell_type": "code",
      "source": [
        "tic = time.perf_counter()\n",
        "diy_lu_column_pivot_reconstruct(A)\n",
        "toc = time.perf_counter()\n",
        "\n",
        "print(f\"Time in {toc - tic:0.4f} seconds\")\n"
      ],
      "metadata": {
        "colab": {
          "base_uri": "https://localhost:8080/"
        },
        "id": "UWqGhEo8gvUB",
        "outputId": "b3997ae4-02f5-4adf-d77b-6a0d5be9f6a8"
      },
      "execution_count": null,
      "outputs": [
        {
          "output_type": "stream",
          "name": "stdout",
          "text": [
            "Time in 81.4029 seconds\n"
          ]
        }
      ]
    },
    {
      "cell_type": "code",
      "source": [
        "N = 1000\n",
        "A = np.zeros((N, N), dtype=float)\n",
        "for i in range(N):\n",
        "    for j in range(N):\n",
        "        A[i, j] = 3. / (0.6*i*j + 1)\n",
        "\n",
        "np.linalg.matrix_rank(A)"
      ],
      "metadata": {
        "colab": {
          "base_uri": "https://localhost:8080/"
        },
        "id": "34I5jbRMhu2y",
        "outputId": "447dd5ac-13e7-4ccb-ffbf-5fe793d9da6b"
      },
      "execution_count": null,
      "outputs": [
        {
          "output_type": "execute_result",
          "data": {
            "text/plain": [
              "10"
            ]
          },
          "metadata": {},
          "execution_count": 9
        }
      ]
    },
    {
      "cell_type": "code",
      "source": [
        "tic2 = time.perf_counter()\n",
        "diy_lu_optimized(A)\n",
        "toc2 = time.perf_counter()\n",
        "print(f\"Time in {toc2 - tic2:0.4f} seconds\")"
      ],
      "metadata": {
        "colab": {
          "base_uri": "https://localhost:8080/"
        },
        "id": "XYbJoxlzhwuH",
        "outputId": "1301c1dd-2a15-4e13-f70a-b0a0f4ac02e4"
      },
      "execution_count": null,
      "outputs": [
        {
          "output_type": "stream",
          "name": "stdout",
          "text": [
            "Time in 0.5481 seconds\n"
          ]
        }
      ]
    },
    {
      "cell_type": "code",
      "source": [
        "tic = time.perf_counter()\n",
        "diy_lu_column_pivot_reconstruct(A)\n",
        "toc = time.perf_counter()\n",
        "\n",
        "print(f\"Time in {toc - tic:0.4f} seconds\")"
      ],
      "metadata": {
        "colab": {
          "base_uri": "https://localhost:8080/"
        },
        "id": "00bkPruAhylW",
        "outputId": "2a4eebfc-da86-44c3-c8cd-7dc3621aee0c"
      },
      "execution_count": null,
      "outputs": [
        {
          "output_type": "stream",
          "name": "stdout",
          "text": [
            "Time in 194.5315 seconds\n"
          ]
        }
      ]
    }
  ]
}