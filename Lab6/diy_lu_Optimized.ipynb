{
  "nbformat": 4,
  "nbformat_minor": 0,
  "metadata": {
    "colab": {
      "provenance": [],
      "authorship_tag": "ABX9TyNIGda1Ke56H+qmQjXDQeUu",
      "include_colab_link": true
    },
    "kernelspec": {
      "name": "python3",
      "display_name": "Python 3"
    },
    "language_info": {
      "name": "python"
    }
  },
  "cells": [
    {
      "cell_type": "markdown",
      "metadata": {
        "id": "view-in-github",
        "colab_type": "text"
      },
      "source": [
        "<a href=\"https://colab.research.google.com/github/mbuitragoc/MetNumUN2023I/blob/main/Lab6/diy_lu_Optimized.ipynb\" target=\"_parent\"><img src=\"https://colab.research.google.com/assets/colab-badge.svg\" alt=\"Open In Colab\"/></a>"
      ]
    },
    {
      "cell_type": "code",
      "execution_count": 1,
      "metadata": {
        "id": "d1dHZkgbYKgB"
      },
      "outputs": [],
      "source": [
        "def diy_lu_column_pivot_reconstruct(A):\n",
        "    \"\"\"Construct the LU decomposition of the input matrix.\n",
        "    \n",
        "    LU decomposition with pivot: work column by column, accumulate elementary triangular matrices L @ np.transpose(Pj) .\n",
        "    \"\"\"\n",
        "    N = A.shape[0]\n",
        "    \n",
        "    U = A.copy()\n",
        "    L = np.eye(N)\n",
        "    P = np.eye(N) #permutation matrix\n",
        "\n",
        "    for j in range(N-1):\n",
        "        \n",
        "        \n",
        "        #find row of max value in col j and swap that with row j\n",
        "        row = np.argmax(np.abs(U[j:,j]))+j #get row with max\n",
        "        #swap rows in matrix u with permutation matrix\n",
        "        U[[j,row]] = U[[row,j]] #swap the rows\n",
        "        \n",
        "        #Update  the permutation matrix\n",
        "        Pj = np.eye(N)\n",
        "        Pj[[j,row]] = Pj[[row,j]]\n",
        "        \n",
        "        Lj = np.eye(N)\n",
        "        gamma = U[j+1:, j] / U[j, j]\n",
        "        Lj[j+1:, j] = -gamma\n",
        "        U = Lj @ U\n",
        "\n",
        "        Lj[j+1:, j] = gamma  #  inv(Lj) = - Lj\n",
        "        \n",
        "        P =  Pj @P \n",
        "        \n",
        "        L = L @ Pj @ Lj\n",
        "\n",
        "\n",
        "    L =  P@L\n",
        "    return  P,L,U"
      ]
    },
    {
      "cell_type": "code",
      "source": [
        "import numpy as np\n",
        "def diy_lu_optimized(a):\n",
        "    \n",
        "    N = a.shape[0]  # Get the number of rows in the input matrix\n",
        "    \n",
        "    U = a.copy()  # Create a copy of the input matrix to store the upper triangular matrix\n",
        "    L = np.eye(N)  # Initialize L as an identity matrix of size N\n",
        "    P = np.eye(N)  # Initialize P as an identity matrix of size N (permutation matrix)\n",
        "\n",
        "    for j in range(N - 1):\n",
        "        pivot_row = np.argmax(np.abs(U[j:, j])) + j  # Find the pivot row for column j\n",
        "        \n",
        "        if pivot_row != j:\n",
        "            U[[j, pivot_row], :j+1] = U[[pivot_row, j], :j+1]  # Swap rows in U matrix\n",
        "            P[[j, pivot_row], :] = P[[pivot_row, j], :]  # Update permutation matrix\n",
        "            if j >= 1:\n",
        "                L[[j, pivot_row], :j] = L[[pivot_row, j], :j]  # Update L matrix\n",
        "        \n",
        "        gamma = U[j+1:, j] / U[j, j]  # Calculate the multipliers for elimination\n",
        "        \n",
        "        U[j+1:, j:] -= gamma[:, np.newaxis] * U[j, j:]  # Update the remaining part of the U matrix\n",
        "        L[j+1:, j] = gamma  # Update the lower part of the L matrix\n",
        "\n",
        "    return P, L, U  # Return the permutation matrix P, lower triangular matrix L, and upper triangular matrix U\n"
      ],
      "metadata": {
        "id": "R49EfLcWYN2J"
      },
      "execution_count": 2,
      "outputs": []
    },
    {
      "cell_type": "code",
      "source": [
        "import time\n",
        "\n",
        "import numpy as np\n",
        "\n",
        "N = 500\n",
        "A = np.zeros((N, N), dtype=float)\n",
        "for i in range(N):\n",
        "    for j in range(N):\n",
        "        A[i, j] = 3. / (0.6*i*j + 1)\n",
        "\n",
        "np.linalg.matrix_rank(A)"
      ],
      "metadata": {
        "colab": {
          "base_uri": "https://localhost:8080/"
        },
        "id": "LFhmaHQxYbgP",
        "outputId": "2d9be9e5-eb63-4ee8-8188-f9eb3b644adf"
      },
      "execution_count": 3,
      "outputs": [
        {
          "output_type": "execute_result",
          "data": {
            "text/plain": [
              "10"
            ]
          },
          "metadata": {},
          "execution_count": 3
        }
      ]
    },
    {
      "cell_type": "code",
      "source": [
        "tic2 = time.perf_counter()\n",
        "diy_lu_optimized(A)\n",
        "toc2 = time.perf_counter()\n",
        "print(f\"Time in {toc2 - tic2:0.4f} seconds\")"
      ],
      "metadata": {
        "id": "u1smkqZRZud7",
        "colab": {
          "base_uri": "https://localhost:8080/"
        },
        "outputId": "0abed19a-f86e-499f-abe6-6c9a0e16e494"
      },
      "execution_count": 4,
      "outputs": [
        {
          "output_type": "stream",
          "name": "stdout",
          "text": [
            "Time in 0.1503 seconds\n"
          ]
        }
      ]
    },
    {
      "cell_type": "code",
      "source": [
        "tic = time.perf_counter()\n",
        "diy_lu_column_pivot_reconstruct(A)\n",
        "toc = time.perf_counter()\n",
        "\n",
        "print(f\"Time in {toc - tic:0.4f} seconds\")\n"
      ],
      "metadata": {
        "colab": {
          "base_uri": "https://localhost:8080/"
        },
        "id": "Ayg7BhytY_Wb",
        "outputId": "63282c0c-5b38-477c-91cd-0ae08421a945"
      },
      "execution_count": 5,
      "outputs": [
        {
          "output_type": "stream",
          "name": "stdout",
          "text": [
            "Time in 16.4302 seconds\n"
          ]
        }
      ]
    },
    {
      "cell_type": "code",
      "source": [
        "N = 800\n",
        "A = np.zeros((N, N), dtype=float)\n",
        "for i in range(N):\n",
        "    for j in range(N):\n",
        "        A[i, j] = 3. / (0.6*i*j + 1)\n",
        "\n",
        "np.linalg.matrix_rank(A)"
      ],
      "metadata": {
        "colab": {
          "base_uri": "https://localhost:8080/"
        },
        "id": "6a4GvAJvgiM8",
        "outputId": "d6550c0b-31e1-42a4-deac-1db9fb1a5a40"
      },
      "execution_count": 6,
      "outputs": [
        {
          "output_type": "execute_result",
          "data": {
            "text/plain": [
              "10"
            ]
          },
          "metadata": {},
          "execution_count": 6
        }
      ]
    },
    {
      "cell_type": "code",
      "source": [
        "tic2 = time.perf_counter()\n",
        "diy_lu_optimized(A)\n",
        "toc2 = time.perf_counter()\n",
        "print(f\"Time in {toc2 - tic2:0.4f} seconds\")"
      ],
      "metadata": {
        "colab": {
          "base_uri": "https://localhost:8080/"
        },
        "id": "ZF95jwwagjmt",
        "outputId": "52528d7e-f792-4224-f228-6a84b11bab0f"
      },
      "execution_count": 7,
      "outputs": [
        {
          "output_type": "stream",
          "name": "stdout",
          "text": [
            "Time in 0.3216 seconds\n"
          ]
        }
      ]
    },
    {
      "cell_type": "code",
      "source": [
        "tic = time.perf_counter()\n",
        "diy_lu_column_pivot_reconstruct(A)\n",
        "toc = time.perf_counter()\n",
        "\n",
        "print(f\"Time in {toc - tic:0.4f} seconds\")\n"
      ],
      "metadata": {
        "colab": {
          "base_uri": "https://localhost:8080/"
        },
        "id": "UWqGhEo8gvUB",
        "outputId": "b3997ae4-02f5-4adf-d77b-6a0d5be9f6a8"
      },
      "execution_count": 8,
      "outputs": [
        {
          "output_type": "stream",
          "name": "stdout",
          "text": [
            "Time in 81.4029 seconds\n"
          ]
        }
      ]
    },
    {
      "cell_type": "code",
      "source": [
        "N = 1000\n",
        "A = np.zeros((N, N), dtype=float)\n",
        "for i in range(N):\n",
        "    for j in range(N):\n",
        "        A[i, j] = 3. / (0.6*i*j + 1)\n",
        "\n",
        "np.linalg.matrix_rank(A)"
      ],
      "metadata": {
        "colab": {
          "base_uri": "https://localhost:8080/"
        },
        "id": "34I5jbRMhu2y",
        "outputId": "447dd5ac-13e7-4ccb-ffbf-5fe793d9da6b"
      },
      "execution_count": 9,
      "outputs": [
        {
          "output_type": "execute_result",
          "data": {
            "text/plain": [
              "10"
            ]
          },
          "metadata": {},
          "execution_count": 9
        }
      ]
    },
    {
      "cell_type": "code",
      "source": [
        "tic2 = time.perf_counter()\n",
        "diy_lu_optimized(A)\n",
        "toc2 = time.perf_counter()\n",
        "print(f\"Time in {toc2 - tic2:0.4f} seconds\")"
      ],
      "metadata": {
        "colab": {
          "base_uri": "https://localhost:8080/"
        },
        "id": "XYbJoxlzhwuH",
        "outputId": "1301c1dd-2a15-4e13-f70a-b0a0f4ac02e4"
      },
      "execution_count": 10,
      "outputs": [
        {
          "output_type": "stream",
          "name": "stdout",
          "text": [
            "Time in 0.5481 seconds\n"
          ]
        }
      ]
    },
    {
      "cell_type": "code",
      "source": [
        "tic = time.perf_counter()\n",
        "diy_lu_column_pivot_reconstruct(A)\n",
        "toc = time.perf_counter()\n",
        "\n",
        "print(f\"Time in {toc - tic:0.4f} seconds\")"
      ],
      "metadata": {
        "colab": {
          "base_uri": "https://localhost:8080/"
        },
        "id": "00bkPruAhylW",
        "outputId": "2a4eebfc-da86-44c3-c8cd-7dc3621aee0c"
      },
      "execution_count": 11,
      "outputs": [
        {
          "output_type": "stream",
          "name": "stdout",
          "text": [
            "Time in 194.5315 seconds\n"
          ]
        }
      ]
    }
  ]
}