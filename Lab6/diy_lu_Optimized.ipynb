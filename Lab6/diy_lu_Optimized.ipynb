{
  "nbformat": 4,
  "nbformat_minor": 0,
  "metadata": {
    "colab": {
      "provenance": [],
      "authorship_tag": "ABX9TyNzVIYWznvmy1j+q28ViZz1",
      "include_colab_link": true
    },
    "kernelspec": {
      "name": "python3",
      "display_name": "Python 3"
    },
    "language_info": {
      "name": "python"
    }
  },
  "cells": [
    {
      "cell_type": "markdown",
      "metadata": {
        "id": "view-in-github",
        "colab_type": "text"
      },
      "source": [
        "<a href=\"https://colab.research.google.com/github/mbuitragoc/MetNumUN2023I/blob/main/Lab6/diy_lu_Optimized.ipynb\" target=\"_parent\"><img src=\"https://colab.research.google.com/assets/colab-badge.svg\" alt=\"Open In Colab\"/></a>"
      ]
    },
    {
      "cell_type": "code",
      "execution_count": 1,
      "metadata": {
        "id": "d1dHZkgbYKgB"
      },
      "outputs": [],
      "source": [
        "def diy_lu(a):\n",
        "    \"\"\"Construct the LU decomposition of the input matrix.\n",
        "    \n",
        "    Naive LU decomposition: work column by column, accumulate elementary triangular matrices.\n",
        "    No pivoting.\n",
        "    \"\"\"\n",
        "    N = a.shape[0]\n",
        "    \n",
        "    u = a.copy()\n",
        "    L = np.eye(N)\n",
        "    for j in range(N-1):\n",
        "        lam = np.eye(N)\n",
        "        gamma = u[j+1:, j] / u[j, j]\n",
        "        lam[j+1:, j] = -gamma\n",
        "        u = lam @ u\n",
        "\n",
        "        lam[j+1:, j] = gamma\n",
        "        L = L @ lam\n",
        "    return L, u"
      ]
    },
    {
      "cell_type": "code",
      "source": [
        "import numpy as np\n",
        "def diy_lu_optimized(a):\n",
        "    \n",
        "    N = a.shape[0]  # Get the number of rows in the input matrix\n",
        "    \n",
        "    U = a.copy()  # Create a copy of the input matrix to store the upper triangular matrix\n",
        "    L = np.eye(N)  # Initialize L as an identity matrix of size N\n",
        "    P = np.eye(N)  # Initialize P as an identity matrix of size N (permutation matrix)\n",
        "\n",
        "    for j in range(N - 1):\n",
        "        pivot_row = np.argmax(np.abs(U[j:, j])) + j  # Find the pivot row for column j\n",
        "        \n",
        "        if pivot_row != j:\n",
        "            U[[j, pivot_row], :j+1] = U[[pivot_row, j], :j+1]  # Swap rows in U matrix\n",
        "            P[[j, pivot_row], :] = P[[pivot_row, j], :]  # Update permutation matrix\n",
        "            if j >= 1:\n",
        "                L[[j, pivot_row], :j] = L[[pivot_row, j], :j]  # Update L matrix\n",
        "        \n",
        "        gamma = U[j+1:, j] / U[j, j]  # Calculate the multipliers for elimination\n",
        "        \n",
        "        U[j+1:, j:] -= gamma[:, np.newaxis] * U[j, j:]  # Update the remaining part of the U matrix\n",
        "        L[j+1:, j] = gamma  # Update the lower part of the L matrix\n",
        "\n",
        "    return P, L, U  # Return the permutation matrix P, lower triangular matrix L, and upper triangular matrix U\n"
      ],
      "metadata": {
        "id": "R49EfLcWYN2J"
      },
      "execution_count": 2,
      "outputs": []
    },
    {
      "cell_type": "code",
      "source": [
        "import time\n",
        "\n",
        "import numpy as np\n",
        "\n",
        "N = 500\n",
        "A = np.zeros((N, N), dtype=float)\n",
        "for i in range(N):\n",
        "    for j in range(N):\n",
        "        A[i, j] = 3. / (0.6*i*j + 1)\n",
        "\n",
        "np.linalg.matrix_rank(A)"
      ],
      "metadata": {
        "colab": {
          "base_uri": "https://localhost:8080/"
        },
        "id": "LFhmaHQxYbgP",
        "outputId": "b7d00237-137f-4e24-b278-03393aa030c8"
      },
      "execution_count": 9,
      "outputs": [
        {
          "output_type": "execute_result",
          "data": {
            "text/plain": [
              "10"
            ]
          },
          "metadata": {},
          "execution_count": 9
        }
      ]
    },
    {
      "cell_type": "code",
      "source": [
        "tic2 = time.perf_counter()\n",
        "diy_lu_optimized(A)\n",
        "toc2 = time.perf_counter()\n",
        "print(f\"Time in {toc2 - tic2:0.4f} seconds\")"
      ],
      "metadata": {
        "id": "u1smkqZRZud7",
        "colab": {
          "base_uri": "https://localhost:8080/"
        },
        "outputId": "bce35349-ce0c-4e6e-ce0c-b295b83161b4"
      },
      "execution_count": 10,
      "outputs": [
        {
          "output_type": "stream",
          "name": "stdout",
          "text": [
            "Time in 0.0833 seconds\n"
          ]
        }
      ]
    },
    {
      "cell_type": "code",
      "source": [
        "tic = time.perf_counter()\n",
        "diy_lu(A)\n",
        "toc = time.perf_counter()\n",
        "\n",
        "print(f\"Time in {toc - tic:0.4f} seconds\")\n"
      ],
      "metadata": {
        "colab": {
          "base_uri": "https://localhost:8080/"
        },
        "id": "Ayg7BhytY_Wb",
        "outputId": "e5afb506-b960-45d5-d14f-ebd010476132"
      },
      "execution_count": 11,
      "outputs": [
        {
          "output_type": "stream",
          "name": "stdout",
          "text": [
            "Time in 6.9277 seconds\n"
          ]
        }
      ]
    }
  ]
}